{
  "nbformat": 4,
  "nbformat_minor": 0,
  "metadata": {
    "colab": {
      "provenance": []
    },
    "kernelspec": {
      "name": "python3",
      "display_name": "Python 3"
    },
    "language_info": {
      "name": "python"
    }
  },
  "cells": [
    {
      "cell_type": "markdown",
      "metadata": {
        "id": "ee8b51a5"
      },
      "source": [
        "# Задание 2 сложная задача\n",
        "\n",
        "Напишите программу, которая считывает строку из маленьких латинских букв и определяет, **какая буква встречается чаще всего**.\n",
        "Если несколько букв встречаются одинаково часто — выведите первую по алфавиту.\n",
        "\n",
        "### Пример\n",
        "`Ввод:` abbccc\n",
        "`Вывод:` c\n",
        "\n",
        "### Подсказка\n",
        "- Используйте словарь для подсчёта количества каждой буквы.\n",
        "- Сравнивайте частоты и выбирайте минимальный ключ при равенстве.\n",
        "- Старайтесь уложиться в 10–12 строк кода."
      ]
    },
    {
      "cell_type": "code",
      "source": [
        "str = input().strip()\n",
        "count = {}\n",
        "for char in str:\n",
        "    count[char] = count.get(char, 0) + 1\n",
        "\n",
        "max_count = None\n",
        "for char in sorted(count.keys()):\n",
        "    if max_count is None or count[char] > count[max_count]:\n",
        "        max_count = char\n",
        "\n",
        "print(max_count)"
      ],
      "metadata": {
        "colab": {
          "base_uri": "https://localhost:8080/"
        },
        "id": "lI3u-UVn-KQg",
        "outputId": "4a60cc7e-2ac6-4a02-fd2a-6c9dab61ee37"
      },
      "execution_count": 5,
      "outputs": [
        {
          "output_type": "stream",
          "name": "stdout",
          "text": [
            "ggfddgyty\n",
            "g\n"
          ]
        }
      ]
    },
    {
      "cell_type": "markdown",
      "metadata": {
        "id": "bcf74724"
      },
      "source": [
        "## Задание по синтаксису (примерно 10 строк кода)\n",
        "\n",
        "Напишите программу, которая:\n",
        "1. Запросит у пользователя ввести его имя.\n",
        "2. Запросит у пользователя ввести его возраст.\n",
        "3. Если возраст больше или равен 18, выведет сообщение \"Привет, [имя]! Ты совершеннолетний.\".\n",
        "4. Если возраст меньше 18, выведет сообщение \"Привет, [имя]! Ты несовершеннолетний.\"."
      ]
    },
    {
      "cell_type": "code",
      "source": [],
      "metadata": {
        "id": "CnaYf4Tm95of"
      },
      "execution_count": null,
      "outputs": []
    },
    {
      "cell_type": "code",
      "metadata": {
        "id": "dc75337d",
        "colab": {
          "base_uri": "https://localhost:8080/"
        },
        "outputId": "5564a30d-6011-480b-e579-ac8916086b13"
      },
      "source": [
        "\n",
        "name = input(\"Введите ваше имя: \")\n",
        "\n",
        "age_str = input(\"Введите ваш возраст: \")\n",
        "age = int(age_str)\n",
        "\n",
        "if age >= 18:\n",
        "    print(f\"Привет, {name}! Ты совершеннолетний.\")\n",
        "else:\n",
        "    print(f\"Привет, {name}! Ты несовершеннолетний.\")"
      ],
      "execution_count": 1,
      "outputs": [
        {
          "output_type": "stream",
          "name": "stdout",
          "text": [
            "Введите ваше имя: поли\n",
            "Введите ваш возраст: 18\n",
            "Привет, поли! Ты совершеннолетний.\n"
          ]
        }
      ]
    },
    {
      "cell_type": "markdown",
      "metadata": {
        "id": "f72ab688"
      },
      "source": [
        "# Задание 3 очень сложная задача\n",
        "\n",
        "На вход подаётся список положительных чисел. Нужно определить, **сколько существует непрерывных подпоследовательностей, сумма которых равна заданному числу `S`**.\n",
        "\n",
        "### Пример\n",
        "`Список:` [1, 2, 1, 3, 2]\n",
        "`S = 3`\n",
        "`Вывод:` 3\n",
        "\n",
        "Объяснение: подпоследовательности с суммой 3 → [1,2], [2,1], [3].\n",
        "\n",
        "### Подсказка\n",
        "- Используйте две вложенные петли или технику скользящего окна.\n",
        "- Используйте только базовый синтаксис: циклы, условия, списки, переменные."
      ]
    },
    {
      "cell_type": "code",
      "source": [
        "def schet_posledovatelnosty(nums, S):\n",
        "    count_of_posledovatelnosti = 0\n",
        "    current_sum = 0\n",
        "    left = 0\n",
        "\n",
        "    for right in range(len(nums)):\n",
        "        current_sum += nums[right]\n",
        "\n",
        "        while current_sum > S and left <= right:\n",
        "            current_sum -= nums[left]\n",
        "            left += 1\n",
        "\n",
        "        if current_sum == S:\n",
        "            count_of_posledovatelnosti += 1\n",
        "\n",
        "    return count_of_posledovatelnosti\n",
        "\n",
        "numbers = [1, 2, 3, 4, 5]\n",
        "S = 5\n",
        "result = schet_posledovatelnosty(numbers, S)\n",
        "print(f\"Кол-во подпоследовательностей с суммой {S}: {result}\")"
      ],
      "metadata": {
        "colab": {
          "base_uri": "https://localhost:8080/"
        },
        "id": "E_yt3atg_lFR",
        "outputId": "a6336f57-5084-4519-dfc7-6dbb145e69dc"
      },
      "execution_count": 11,
      "outputs": [
        {
          "output_type": "stream",
          "name": "stdout",
          "text": [
            "Кол-во подпоследовательностей с суммой 5: 2\n"
          ]
        }
      ]
    }
  ]
}